{
 "cells": [
  {
   "cell_type": "markdown",
   "metadata": {},
   "source": [
    "<h2>Part I</h2>\n",
    "<h3>Description of the problem</h3>\n",
    "Toronto's competetive restaurant scene is an impressive one thanks to the various chefs and restauranteurs who constantly bring people new places and cuisines to try. But, where is the best place to open up a Mexican eatery in the Greater Toronto Area?\n",
    "\n",
    "Over the next 50 years, the city is projected to grow at a thrilling rate. In 50 years, the GTA’s population will double. The city’s diverse population, currently at 2.9 million, will increase to almost 5 million. Nearly 10 per cent of new Torontonians will cram themselves into the core, a sliver that accounts for only three per cent of the city’s land mass.\n",
    "\n",
    "As a result - all things being equal and acknowledging the fact that opening a restaurant business requires deep pockets and lots of hard work, it would seem to be a good choice to open up a Mexican eatery in the core of the city. The question to be answered then is, which neighborhoods in Downtown Toronto would represent the best option.\n",
    "\n",
    "<h3>Discussion of the background</h3>\n",
    "My client, a wealthy and successful restauranteur from Mexico is eager to expand business operations into Toronto. They want to create an authentic Mexican eatery that will serve and offer the full richness of Mexican culture and cuisine to the people of Downtown Toronto.\n",
    "\n",
    "Since Downtown Toronto is very competetive, my client needs insight from data in order to decide in which neighborhood to establish this authentic Mexican eatery."
   ]
  }
 ],
 "metadata": {
  "kernelspec": {
   "display_name": "Python 3",
   "language": "python",
   "name": "python3"
  },
  "language_info": {
   "codemirror_mode": {
    "name": "ipython",
    "version": 3
   },
   "file_extension": ".py",
   "mimetype": "text/x-python",
   "name": "python",
   "nbconvert_exporter": "python",
   "pygments_lexer": "ipython3",
   "version": "3.7.3"
  },
  "varInspector": {
   "cols": {
    "lenName": 16,
    "lenType": 16,
    "lenVar": 40
   },
   "kernels_config": {
    "python": {
     "delete_cmd_postfix": "",
     "delete_cmd_prefix": "del ",
     "library": "var_list.py",
     "varRefreshCmd": "print(var_dic_list())"
    },
    "r": {
     "delete_cmd_postfix": ") ",
     "delete_cmd_prefix": "rm(",
     "library": "var_list.r",
     "varRefreshCmd": "cat(var_dic_list()) "
    }
   },
   "types_to_exclude": [
    "module",
    "function",
    "builtin_function_or_method",
    "instance",
    "_Feature"
   ],
   "window_display": false
  }
 },
 "nbformat": 4,
 "nbformat_minor": 2
}
