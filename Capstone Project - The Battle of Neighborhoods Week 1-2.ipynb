{
 "cells": [
  {
   "cell_type": "markdown",
   "metadata": {},
   "source": [
    "<h2>Part II</h2>\n",
    "<h3>Description of the data</h3>\n",
    "This project will utilize publicly available data from Wikipedia and Foursquare. Specifically, all Toronto neighborhood details along with their postal codes are available here: https://en.wikipedia.org/wiki/List_of_postal_codes_of_Canada:_M The focus of this project will be the Downtown Toronto neighborhoods that will be extracted and analyzed accordingly.\n",
    "\n",
    "The Foursquare API will be utilized to obtain the geographical location data for Downtown Toronto, and data will be used to explore the restaurant venues in the neighbourhoods. The restaurants will provide the categories needed for the analysis and these will be used to determine the viability of the selected locations for the restaurant.\n",
    "\n",
    "<h3>How data will be used to solve the problem</h3>\n",
    "The data from Wikipedia and Foursquare will be explored and analyzed by considering the restaurant venues in Downtown Toronto. The restaurants from the core of the city will be reviewed in terms of the types or categories of restaurants within a specific radius.\n",
    "\n",
    "The data will be utilized to come up with a frequency analysis for a Mexican eatery in Downtown Toronto, and to come up with the best choices of neighborhoods for my client."
   ]
  }
 ],
 "metadata": {
  "kernelspec": {
   "display_name": "Python 3",
   "language": "python",
   "name": "python3"
  },
  "language_info": {
   "codemirror_mode": {
    "name": "ipython",
    "version": 3
   },
   "file_extension": ".py",
   "mimetype": "text/x-python",
   "name": "python",
   "nbconvert_exporter": "python",
   "pygments_lexer": "ipython3",
   "version": "3.7.3"
  },
  "varInspector": {
   "cols": {
    "lenName": 16,
    "lenType": 16,
    "lenVar": 40
   },
   "kernels_config": {
    "python": {
     "delete_cmd_postfix": "",
     "delete_cmd_prefix": "del ",
     "library": "var_list.py",
     "varRefreshCmd": "print(var_dic_list())"
    },
    "r": {
     "delete_cmd_postfix": ") ",
     "delete_cmd_prefix": "rm(",
     "library": "var_list.r",
     "varRefreshCmd": "cat(var_dic_list()) "
    }
   },
   "types_to_exclude": [
    "module",
    "function",
    "builtin_function_or_method",
    "instance",
    "_Feature"
   ],
   "window_display": false
  }
 },
 "nbformat": 4,
 "nbformat_minor": 2
}
